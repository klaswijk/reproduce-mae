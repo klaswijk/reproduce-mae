{
 "cells": [
  {
   "cell_type": "code",
   "execution_count": 1,
   "id": "8626268f",
   "metadata": {},
   "outputs": [],
   "source": [
    "import pandas as pd\n",
    "import matplotlib.pyplot as plt"
   ]
  },
  {
   "cell_type": "code",
   "execution_count": 10,
   "id": "da62a475",
   "metadata": {},
   "outputs": [
    {
     "name": "stdout",
     "output_type": "stream",
     "text": [
      "Using matplotlib backend: MacOSX\n"
     ]
    }
   ],
   "source": [
    "%matplotlib"
   ]
  },
  {
   "cell_type": "code",
   "execution_count": 3,
   "id": "4690cd92",
   "metadata": {},
   "outputs": [],
   "source": [
    "# Get only the low_lr data for the test_classification\n",
    "df = pd.read_csv(\"wandb_export.csv\")\n",
    "df = df[df[\"Tags\"].str.contains(\"low lr\")]\n",
    "df = df[df[\"Name\"].str.contains(\"test_classification\")]"
   ]
  },
  {
   "cell_type": "code",
   "execution_count": 4,
   "id": "4ccc4ea8",
   "metadata": {},
   "outputs": [],
   "source": [
    "# Set mask_ratio for baseline to 0\n",
    "df.loc[df[\"Name\"].str.contains(\"baseline\"), \"model.mask_ratio\"] = 0"
   ]
  },
  {
   "cell_type": "code",
   "execution_count": 8,
   "id": "223285ae",
   "metadata": {},
   "outputs": [],
   "source": [
    "# Pick out each dataset and sort by mask_ratio\n",
    "df_nette = df[df[\"Tags\"].str.contains(\"imagenette\")].sort_values(by=\"model.mask_ratio\")\n",
    "df_woof = df[df[\"Tags\"].str.contains(\"imagewoof\")].sort_values(by=\"model.mask_ratio\")"
   ]
  },
  {
   "cell_type": "code",
   "execution_count": 12,
   "id": "33e4bc3a",
   "metadata": {},
   "outputs": [],
   "source": [
    "df_nette.plot(x=\"model.mask_ratio\", y=\"acc_k_1\", label=\"imagenette\")\n",
    "plt.title(\"Test Accuracy\")\n",
    "plt.ylabel(\"accuracy\")\n",
    "plt.xlabel(\"masking ratio\")\n",
    "plt.savefig(\"./plots/nette_mask_ratio_acc.png\")"
   ]
  },
  {
   "cell_type": "code",
   "execution_count": 13,
   "id": "73e41983",
   "metadata": {},
   "outputs": [],
   "source": [
    "df_woof.plot(x=\"model.mask_ratio\", y=\"acc_k_1\", label=\"imagewoof\")\n",
    "plt.title(\"Test Accuracy\")\n",
    "plt.ylabel(\"accuracy\")\n",
    "plt.xlabel(\"masking ratio\")\n",
    "plt.savefig(\"./plots/nette_mask_ratio_acc.png\")"
   ]
  },
  {
   "cell_type": "code",
   "execution_count": null,
   "id": "3413a054",
   "metadata": {},
   "outputs": [],
   "source": []
  }
 ],
 "metadata": {
  "kernelspec": {
   "display_name": "mae",
   "language": "python",
   "name": "mae"
  },
  "language_info": {
   "codemirror_mode": {
    "name": "ipython",
    "version": 3
   },
   "file_extension": ".py",
   "mimetype": "text/x-python",
   "name": "python",
   "nbconvert_exporter": "python",
   "pygments_lexer": "ipython3",
   "version": "3.9.13"
  }
 },
 "nbformat": 4,
 "nbformat_minor": 5
}
